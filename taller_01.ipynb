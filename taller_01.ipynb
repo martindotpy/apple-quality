{
 "cells": [
  {
   "cell_type": "markdown",
   "metadata": {},
   "source": [
    "# Análisis Exploratorio\n"
   ]
  },
  {
   "cell_type": "code",
   "execution_count": null,
   "metadata": {},
   "outputs": [],
   "source": [
    "import io\n",
    "import zipfile\n",
    "from pathlib import Path\n",
    "from typing import Final\n",
    "\n",
    "import pandas as pd\n",
    "import requests"
   ]
  },
  {
   "cell_type": "code",
   "execution_count": null,
   "metadata": {},
   "outputs": [],
   "source": [
    "dataset_url: Final[str] = (\n",
    "    \"https://www.kaggle.com/api/v1/datasets/download/nelgiriyewithana/apple-quality\"\n",
    ")"
   ]
  },
  {
   "cell_type": "markdown",
   "metadata": {},
   "source": [
    "El\n",
    "[dataset](https://www.kaggle.com/datasets/nelgiriyewithana/apple-quality/data)\n",
    "contiene información acerca de distintos tipos de frutas con las siguientes\n",
    "características:\n",
    "\n",
    "- `id`: identificador único de la fruta.\n",
    "- `size - tamaño`: Tamaño de la fruta.\n",
    "- `weight - peso`: Peso de la fruta.\n",
    "- `sweetness - dulzura`: Nivel de dulzura de la fruta.\n",
    "- `crunchiness - crujido`: Nivel de crujido de la fruta.\n",
    "- `juiciness - jugosidad`: Nivel de jugosidad de la fruta.\n",
    "- `ripeness - madurez`: Nivel de madurez de la fruta.\n",
    "- `acidity - acidez`: Nivel de acidez de la fruta.\n",
    "- `quality - calidad`: Calidad de la fruta.\n"
   ]
  },
  {
   "cell_type": "code",
   "execution_count": null,
   "metadata": {},
   "outputs": [],
   "source": [
    "# Descargamos todo el dataset\n",
    "response = requests.get(\n",
    "    dataset_url,\n",
    "    timeout=10,\n",
    ")\n",
    "\n",
    "with zipfile.ZipFile(io.BytesIO(response.content)) as zip_file:\n",
    "    zip_file.extractall(\"data\")\n",
    "\n",
    "data_path: Final[Path] = Path(\"data\")\n",
    "files: list[Path] = [*data_path.iterdir()]\n",
    "\n",
    "# Verificamos que solo haya un archivo\n",
    "if len(files) > 1:\n",
    "    raise ValueError(\"Multiple files downloaded, expected only one\")  # noqa: EM101, TRY003\n",
    "\n",
    "# Guardamos el dataset y eliminamos\n",
    "raw_dataset_csv_path: Final[Path] = Path(\"raw_dataset.csv\")\n",
    "\n",
    "if raw_dataset_csv_path.exists():\n",
    "    raw_dataset_csv_path.unlink()\n",
    "\n",
    "files[0].rename(raw_dataset_csv_path)\n",
    "data_path.rmdir()"
   ]
  },
  {
   "cell_type": "markdown",
   "metadata": {},
   "source": [
    "# Procesamiento de datos\n"
   ]
  },
  {
   "cell_type": "markdown",
   "metadata": {},
   "source": [
    "Realizamos la limpieza del [csv](./dataset.csv).\n"
   ]
  },
  {
   "cell_type": "markdown",
   "metadata": {},
   "source": [
    "Empezaríamos eliminando la última fila ya que contiendo datos en blanco con el\n",
    "nombre del autor del dataset.\n"
   ]
  },
  {
   "cell_type": "code",
   "execution_count": null,
   "metadata": {},
   "outputs": [],
   "source": [
    "dataset_csv_path = Path(\"dataset.csv\")\n",
    "\n",
    "if dataset_csv_path.exists():\n",
    "    dataset_csv_path.unlink()\n",
    "\n",
    "# Eliminamos la última fila con el nombre del creador\n",
    "with open(raw_dataset_csv_path) as f:\n",
    "    lines = f.readlines()\n",
    "\n",
    "# cspell:disable-next-line  # noqa: ERA001\n",
    "if lines[-1] == \",,,,,,,Created_by_Nidula_Elgiriyewithana,\\n\":\n",
    "    with open(dataset_csv_path, \"w\") as f:\n",
    "        f.writelines(lines[:-1])"
   ]
  },
  {
   "cell_type": "code",
   "execution_count": null,
   "metadata": {},
   "outputs": [],
   "source": [
    "fruits_df = pd.read_csv(dataset_csv_path)"
   ]
  },
  {
   "cell_type": "markdown",
   "metadata": {},
   "source": [
    "Pasamos a convertir los valores de la columna `Quality` a valores booleanos,\n",
    "donde `1` representa una fruta de calidad y `0` una fruta de mala calidad.\n"
   ]
  },
  {
   "cell_type": "code",
   "execution_count": null,
   "metadata": {},
   "outputs": [],
   "source": [
    "# Convertimos la columna 'Quality' a valores booleanos\n",
    "fruits_df[\"Quality\"] = fruits_df[\"Quality\"].map({\"good\": 1, \"bad\": 0})"
   ]
  },
  {
   "cell_type": "code",
   "execution_count": null,
   "metadata": {},
   "outputs": [
    {
     "data": {
      "text/plain": [
       "A_id             int64\n",
       "Size           float64\n",
       "Weight         float64\n",
       "Sweetness      float64\n",
       "Crunchiness    float64\n",
       "Juiciness      float64\n",
       "Ripeness       float64\n",
       "Acidity        float64\n",
       "Quality          int64\n",
       "dtype: object"
      ]
     },
     "execution_count": 72,
     "metadata": {},
     "output_type": "execute_result"
    }
   ],
   "source": [
    "fruits_df.dtypes"
   ]
  },
  {
   "cell_type": "markdown",
   "metadata": {},
   "source": [
    "# Entrenamiento del modelo\n"
   ]
  },
  {
   "cell_type": "markdown",
   "metadata": {},
   "source": [
    "# Evaluación del modelo\n"
   ]
  }
 ],
 "metadata": {
  "authors": [
   "Martin A. Ramos Y."
  ],
  "date": "01 de marzo del 2025",
  "kernelspec": {
   "display_name": ".venv",
   "language": "python",
   "name": "python3"
  },
  "language_info": {
   "codemirror_mode": {
    "name": "ipython",
    "version": 3
   },
   "file_extension": ".py",
   "mimetype": "text/x-python",
   "name": "python",
   "nbconvert_exporter": "python",
   "pygments_lexer": "ipython3",
   "version": "3.12.8"
  },
  "title": "Taller 1: Calidad de las manzanas"
 },
 "nbformat": 4,
 "nbformat_minor": 2
}
